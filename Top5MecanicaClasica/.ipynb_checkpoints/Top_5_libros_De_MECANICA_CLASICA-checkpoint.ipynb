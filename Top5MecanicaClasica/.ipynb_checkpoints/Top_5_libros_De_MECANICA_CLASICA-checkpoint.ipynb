{
 "cells": [
  {
   "cell_type": "markdown",
   "metadata": {},
   "source": [
    "# TOP 5 LIBROS DE MECANICA CLASICA CON 2 MENCIONES HONORIFICAS. "
   ]
  },
  {
   "cell_type": "markdown",
   "metadata": {},
   "source": [
    "Cuando uno es estudiante y se enfrenta a su primer curso de Mecanica Clasica le resulta tedioso buscar informacion sobre libros que se acomoden bien a tu forma de razonar y tu forma organizada de llevar las cosas. La mayoria de los profesores no ayudan en ese aspecto , ellos solo te dan el silabus y te dicen: \n",
    "<img src=\"largate.jpg\">\n",
    "\n",
    "Asi que yo con el intento de ser un heroe para todos esos soldados en su camino al conocimiento te hare un top 5 de los mejores libros de Mecanica Clasica que me he podido encontrar en mi carrera como estudiante.\n",
    "\n",
    "Este soy yo antes de leer los libros de mi top :\n",
    "<img src=\"patricio.jpg\">\n",
    "Y este soy yo despues de leer los libros de mi top:\n",
    "<img src=\"Patricio_fuerte.jpeg\">\n",
    "\n",
    "Hablando enserio , NO te mostrare si la portada es bonita o no. Hare analisis de su contenido en mi experiencia leyendolo y te dire las razones de por que deberias leerlos. Sin mas preambulos comencemos "
   ]
  },
  {
   "cell_type": "markdown",
   "metadata": {},
   "source": [
    "# #5 DINAMICA CLASICA \n",
    "# ( Antonio Rañada ) "
   ]
  },
  {
   "cell_type": "markdown",
   "metadata": {},
   "source": [
    "<img src=\"rañada_portada.jpg\"> <img src=\"rañada.jpg\">"
   ]
  },
  {
   "cell_type": "markdown",
   "metadata": {},
   "source": [
    "Rañada tiene estos siguientes libros \n",
    "<img src=\"libros_rañada.png\">\n",
    "\n",
    "Sin embargo para el top, el libro que recomiendo y que me ayudo fue \"Dinamica Clasica\". Este libro va dirigido a estudiantes de Ciencia e Ingenieria. \n",
    "- Me gusta este libro por que plantea los fundamentos de la mecanica de una manera no tradicional. ( cuando veas el sillabus me daras la razon )\n",
    "- Por alla de la epoca de tus padres uno estaba limitado a estudiar problemas con soluciones exactas \n",
    "<img src=\"estoy_limitado.jpg\">\n",
    "- Sin embargo estos son nuevos tiempos y ahora podemos usar los ordenadores para el calculo numerico. Esto nos abre un abanico de problemas que antes eran inaccesibles y este libro abarca bien este tipo de problemas que es necesario para un estudiante moderno en esta asignatura. "
   ]
  },
  {
   "cell_type": "markdown",
   "metadata": {},
   "source": [
    "- Su silabus es el siguiente\n",
    "<img src=\"rañada1.png\">"
   ]
  },
  {
   "cell_type": "markdown",
   "metadata": {},
   "source": [
    "- En el primer capitulo el autor empieza haciendo una reflexion historica de como se ha desarrollado las ideas dinamicas que va desde la concepcion de aristoteles del movimiento, personaje que pensaba que los cuerpos celestes se comportan diferente que los cuerpos terrestes hasta la concepcion de Poincare como el mundo como un sistema dinamico. Luego el autor desarrolla la cinematica y da algunos consejos de desarrollo del problemas. \n",
    "- En el capitulo 2 , no espera mas y de inmediato entra a sistemas dinamicos ( recuerdas que te dije que trata los fundamentos de una manera no tradicional xd). Esto puede resultar confuso ya que deberia empezar con Newton . Aca es donde entra lo interesante , a pesar de esta metodologia, llevar de esta forma el curso sentido para los objetivos del autor y cuando lo leas le daras la razon. \n",
    "- Como el libro tambien abarca ,como cualquier libro de mecanica clasica, sistemas de particulas puntuales entonces comienza hablar brevemente de las ideas newtonianas y su respectiva critica. Recomiendo leer la critica. \n",
    "- No pierde tiempo en el formalismo y la historia y comienza a explicar en el capitulo 4 la formulacion de lagrange y hamilton. Formulaciones que usualmente se hacen en dos capitulos separados. "
   ]
  },
  {
   "cell_type": "markdown",
   "metadata": {},
   "source": [
    "<img src=\"rañada2.png\">"
   ]
  },
  {
   "cell_type": "markdown",
   "metadata": {},
   "source": [
    "- Lastimosamente el capitulo 5 y 6 no puede leerlo a profundidad . Pero a jusgar por los nombres es evidente que el autor mas se preocupa por las aplicaciones de los formalismos. \n",
    "- Quiero hacer mencion de que la lectura de este libro es amena. Tiene condensado ciertas ideas para que no te pierdas ante un mar de conocimineto. Una cosa que debo alabar del autor es que este te deja notas historicas de los personajes involucrados en estas teorias . Lo cual se agradece a nivel de divulgación. \n",
    "<img src=\"nota_newton.png\">\n",
    "<img src=\"nota_galileo.png\">\n",
    "<img src=\"joseph_nota.png\">"
   ]
  },
  {
   "cell_type": "markdown",
   "metadata": {},
   "source": [
    "<img src=\"rañada3.png\">"
   ]
  },
  {
   "cell_type": "markdown",
   "metadata": {},
   "source": [
    "<img src=\"rañada4.png\">"
   ]
  },
  {
   "cell_type": "markdown",
   "metadata": {},
   "source": [
    "<img src=\"rañada5.png\">"
   ]
  },
  {
   "cell_type": "markdown",
   "metadata": {},
   "source": [
    "<img src=\"rañada6.png\">"
   ]
  },
  {
   "cell_type": "markdown",
   "metadata": {},
   "source": [
    "<img src=\"rañada7.png\">"
   ]
  },
  {
   "cell_type": "markdown",
   "metadata": {},
   "source": [
    "Tengo que confesar que a partir del capitulo 6 para adelante no los he leido. Debido a esto no puedo comentar mas de este libro. Sin embargo de lo que he leido puedo recomendarlo para un primer acercamiento a las ideas complejas del movimiento. En resumen este libro trata temas complejos de manera condensada. Si tu eres una persona que le gusta ver mas ecuaciones que texto, este libro encajara bien para ti. Ademas lo que valoro son sus aplicaciones que los tiene como complemento. Eso es el gusto de este libro. Recomendacion en quinto lugar !!!"
   ]
  },
  {
   "cell_type": "markdown",
   "metadata": {},
   "source": [
    "Si tu haz leido este libro , cuentame en comentarios . ¿Que tal te parecio? ¿Te gusto mucho? ¿Consideras que el autor hizo un buen desarrollo? . Cuentame que yo te leo. "
   ]
  },
  {
   "cell_type": "markdown",
   "metadata": {},
   "source": [
    "# #4 INTRODUCTORY CLASSICAL MECHANICS \n",
    "# ( David Morin ) "
   ]
  },
  {
   "cell_type": "markdown",
   "metadata": {},
   "source": [
    "<img src=\"david_morin_mecanica.png\">\n",
    "<img src=\"morin_david.jpeg\">"
   ]
  },
  {
   "cell_type": "markdown",
   "metadata": {},
   "source": [
    "https://scholar.harvard.edu/david-morin/books\n",
    "Este autor tiene tambien libros sobre electricidad y magnetismo. Yo recomendare para este top 4 su libro \"Introduccion to Clasical Mechanics\"\n",
    "- Este libro en realidad son 2 libros en 1. Uno donde se enseña la teoria y se deja ejercicios . Y otro donde se tiene las soluciones a esos ejercicios. Aca debo citar lo que dice el autor y me dio un poco de gracia.\n",
    "    - \"Los problemas con soluciones son llamados propiamente problemas Y los problemas sin soluciones incluidas son llamadas \"ejercicios\". ( esto claro desde el punto de vista del autor ) \n",
    "- Este libro en lo personal lo recomiendo para una persona que halla ya estudiado un tema particular de mecanica clasica y quiera una ayuda inmediata en la forma de pensamiento de resolucion de problemas complicados. \n",
    "- Me ayudo bastante en el entendimiento. El autor es genial por que evalua problemas y luego ve sus casos limites , llevando algunos parametros ya sea a cero o a infinito. Aca un ejemplo. \n",
    "<img src=\"morin_ejemplo.png\">\n",
    "- El autor tambien clasifica sus problemas , como facil * , medio ** , complicado *** lo cual se agradece a pesar de que los resuelva al final. ( Ah por cierto las soluciones las tiene muy separadas de los ejercicios, es decir NO es que se enuncia el ejercicio y luego la solucion ). Creeme que tiene problemas muy complicados sin embargo son valiosos en mi opinion leer esos ejercicios. \n",
    "<img src=\"morin_problems.png\">\n",
    "- Recuerda un libro con solucionario es solo de ayuda en caso no puedas con los problemas pero no es que veas ejercicio y luego solucion. El flujo correcto es \"ver problema\" , \"intentar resolver\" y \"comparar en caso se hizo el problmea\" , \"en caso no puedes , entonces ver la solucion rapida e hacer el ejercicio por ti mismo\" . Cito al autor de nuevo\n",
    "    - \"Al hacer un problema tu necesitas no solo saber la corrrecta forma de resolver sino tambien estar familiarizado con las incorrectas maneras de resolver\". ( la razon de por que dice esto, esta en su prefacio , recomiendo leerlo ). \n",
    "    \n",
    "Sin mas te muestro su sillabus"
   ]
  },
  {
   "cell_type": "markdown",
   "metadata": {},
   "source": [
    "<img src=\"morin1.png\">"
   ]
  },
  {
   "cell_type": "markdown",
   "metadata": {},
   "source": [
    "Del capitulo 1 al 4 cubre los temas mas familiares de mecanica cuantica. Aca dire que su teoria es demasiado concisa pero da buenos consejos y mnemotecnicas de ciertas formulas o ideas . Lo valioso en estos capitulos es los problemas que abarca. Recomiendo analizarlos. "
   ]
  },
  {
   "cell_type": "markdown",
   "metadata": {},
   "source": [
    "<img src=\"morin2.png\">"
   ]
  },
  {
   "cell_type": "markdown",
   "metadata": {},
   "source": [
    "- El tratamiento lagrangiano lo hace de una manera bien pero bien breve con el fin de hacer problemas lo mas rapido posible. La verdad yo vole cuando lei esto pero el autor bueno, le interesa mas los problemas que la misma teoria. Pero eso si debo decir que no es mala su teoria solo que el analisis profundo no lo hace y se lo pasa por alto. \n",
    "- Fuerzas centrales no he leido pero sospecho el autor tambien un analisis breve . y se pone a resolver problemas muy dificiles. "
   ]
  },
  {
   "cell_type": "markdown",
   "metadata": {},
   "source": [
    "<img src=\"morin3.png\">"
   ]
  },
  {
   "cell_type": "markdown",
   "metadata": {},
   "source": [
    "Estas dos secciones para mi fueron muy valiosas por que el autor abarca problemas muy diferentes. Yo cuando lleve mecanica clasica , hacia problemas sencillos de cuerpo rigido y el unico problema complicado fue el del Trompo. Gracias a estas secciones pude abarcar mas problemas y entenderlo."
   ]
  },
  {
   "cell_type": "markdown",
   "metadata": {},
   "source": [
    "<img src=\"morin4.png\">"
   ]
  },
  {
   "cell_type": "markdown",
   "metadata": {},
   "source": [
    "<img src=\"morin5.png\">"
   ]
  },
  {
   "cell_type": "markdown",
   "metadata": {},
   "source": [
    "Otra vez temo decir que a partir del capitulo 9 no termine de leer el libro. Pero si les he dado una ojeada de vez en cuando y me ha sorprendido los problemas que abarca. No he leido sus soluciones pero sospecho que los resuelve con mucho ingenio. Recomendacion en 4to lugar !!!!\n",
    "\n",
    "Si tu haz leido este libro , cuentame en comentarios . ¿Que tal te parecio? ¿Te gusto mucho? ¿Consideras que el autor hizo un buen desarrollo? . Cuentame que yo te leo."
   ]
  },
  {
   "cell_type": "markdown",
   "metadata": {},
   "source": [
    "# #3 DINAMICA CLÁSICA DE LAS PARTICULAS Y SISTEMAS\n",
    "# ( Jerry B.Marion ) "
   ]
  },
  {
   "cell_type": "markdown",
   "metadata": {},
   "source": [
    "<img src=\"marion_libro.jpg\">\n",
    "<img src=\"marion.jpg\">"
   ]
  },
  {
   "cell_type": "markdown",
   "metadata": {},
   "source": [
    "- Se que muchos me diran que este libro es malo por que tiene mala impresión y ademas tiene ideas incompletas. Que hay libros mejores y todo eso pero para mi si fue un libro muy didactico en su explcación, aunque no perfecto si me llego a explicar de manera clara los primeros conceptos. \n",
    "- El libro \"Dinamica clasica de las particulas y sistemas\" de Jerry B.Marion lo lei debido a que ese tiempo no dominaba la lectura en ingles. Este libro lo recomiendo debido a que hace mas enfasis a los aspectos fisicos que a la rigurosidad matematica. \n",
    "- Tiene tres propositos este libro \n",
    "    - Presentar un tratamiento moderno de los sistemas mecanico clasicos para que el salto a la teorias cuanticas se pueda efectuar con menos dificultad.\n",
    "    - Familiarizar al estudiante en la resolución de problemas clasicos. \n",
    "    - Dotar al estudiante el manejo del formalismo de la teoria como las tecnicas operativas. \n",
    "- Este libro tambien es recomendado a uno que recien esta entrando al formalismo de la mecanica clasica pero con la advertencia de que el libro no es perfecto y tiene secciones donde no deja muy claro las ideas. \n",
    "- Lo que destaco de este libro son sus secciones finales donde te comenta de otros libros para que sigas investigando. Aca te muestro un ejemplo: \n",
    "<img src=\"refmarion1.png\">\n",
    "<img src=\"refmarion2.png\">\n",
    "\n",
    "- Este es la parte final del capitulo de relatividad especial . Te daras cuenta que el autor te indica los distintos niveles de entendimiento del tema y donde encontrar los temas tal vez mucho mejor explicados por sus propias palabras. Esto es un plus del libro que no encontre en otro de Mecanica Clasica. \n",
    "- Como siempre si esta edicion del autor no te gusta , Tiene una quinta edicion pero esta en ingles. En esa edicion si deja claro todos los conceptos. Por si estas interesado!!! . No pongo la quinta edicion debido a que no la he leido pero pude hacer una comparacion y sus desarrollos son mas extensos que esta edición. \n",
    "\n",
    "- Sin mas preambulos te dejo el sillabus. "
   ]
  },
  {
   "cell_type": "markdown",
   "metadata": {},
   "source": [
    "<img src=\"marion1.png\">"
   ]
  },
  {
   "cell_type": "markdown",
   "metadata": {},
   "source": [
    "- La matematica que se usa en un primer curso de Mecanica clasica corresponde a calculo vectorial . La mayoria de libros presupone que tu lo sabes todo o que lo aprenderas en el desarrollo de la teoria. Este libro tiene como primer capitulo y le mejor que he visto las teorias matematicas necesarias. Si recien entras al mundo de la mecanica clasica recomiendo leer este primer capitulo. "
   ]
  },
  {
   "cell_type": "markdown",
   "metadata": {},
   "source": [
    "<img src=\"marion2.png\">"
   ]
  },
  {
   "cell_type": "markdown",
   "metadata": {},
   "source": [
    "- El autor desarrolla el conepto de fuerzas y ley de gravitación de manera conscisa y muy enfocado a los detalles fisicos. En la oscilaciónes lineales diria que solo analiza el oscilador de siempre con el espacio fasico y tambien las curvas de Lissajous. Aca debo decir que el analisis del espacio fasico lo hace de manera muy profunda , En las oscilaciones amortiguadas clasifica los distintos de amortiguamiento respecto a como se ubican sus condiciones iniciales en el espacio fasico. "
   ]
  },
  {
   "cell_type": "markdown",
   "metadata": {},
   "source": [
    "<img src=\"marion3.png\">"
   ]
  },
  {
   "cell_type": "markdown",
   "metadata": {},
   "source": [
    "<img src=\"marion4.png\">"
   ]
  },
  {
   "cell_type": "markdown",
   "metadata": {},
   "source": [
    "- En el capitulo de oscilaciones alineales analiza las fuerzas alineales con algunos ejemplos clasicos. Desarrolla el pendulo sin aproximaciones ( El contenido fisico de este capitulo es vasto ). El Fisico siempre se caracteriza por aproximar de una manera peculiar , haciendo desarrollos de taylor cuando pueda . En este capitulo se abusa de ese superpoder y te ayuda a entender como el teorico aproxima xd.  Ademas hace uso del metodo de perturbaciones ( tema avanzado ) pero lo aplica a problemas sencillos .\n",
    "- Aca en capitulo 6 si debo advertir , El desarrollo que hace aca es el mas revelador para cuando se hace calculo de variaciones. Pero este capitulo debe ser acompañado de otro libro. El autor aclara cosas como el simbolo delta y halla algunas geodesicas pero es tan corto las explicaciones que requieren un contexto mas amplio. Sin embargo todo lo que dice el autor es relevante. "
   ]
  },
  {
   "cell_type": "markdown",
   "metadata": {},
   "source": [
    "<img src=\"marion5.png\">"
   ]
  },
  {
   "cell_type": "markdown",
   "metadata": {},
   "source": [
    "- Este capitulo me dejo sin palabras, es el mejor que he visto como introduccion. El autor te explica de manera breve todos los principios . Recomiendo esta lectura al que se quiere motivar con la dinamica de Lagrange y Hamilton. Trata el tema como si te contara un amigo. "
   ]
  },
  {
   "cell_type": "markdown",
   "metadata": {},
   "source": [
    "<img src=\"marion6.png\">"
   ]
  },
  {
   "cell_type": "markdown",
   "metadata": {},
   "source": [
    "- El capitulo 8 es un tema importante, el autor lo trata como cualquier otro libro. No commentare mucho acerca de este capitulo porque considero en el top 1 un mejor desarrrollo que este. Lo que si tiene como unico es que analiza las inestabilidades para el potencial de yukawa en este capitulo. "
   ]
  },
  {
   "cell_type": "markdown",
   "metadata": {},
   "source": [
    "<img src=\"marion7.png\">"
   ]
  },
  {
   "cell_type": "code",
   "execution_count": null,
   "metadata": {},
   "outputs": [],
   "source": []
  },
  {
   "cell_type": "markdown",
   "metadata": {},
   "source": [
    "<img src=\"marion8.png\">"
   ]
  },
  {
   "cell_type": "markdown",
   "metadata": {},
   "source": [
    "- En lo demas del libro , solo me he leido ciertas cosas puntuales. De nuevo recomiendo este libro a pesar de no haber leido por completo. Este libro me ayudo bastante para entender cosas que otros libros mas te hacen confunidir. Aunque no es perfecto el libro, si tiene secciones que son muy reveladores. Recomendacion numero 3!!!. "
   ]
  },
  {
   "cell_type": "markdown",
   "metadata": {},
   "source": [
    "Si tu haz leido este libro , cuentame en comentarios . ¿Que tal te parecio? ¿Te gusto mucho? ¿Consideras que el autor hizo un buen desarrollo? . Cuentame que yo te leo."
   ]
  },
  {
   "cell_type": "markdown",
   "metadata": {},
   "source": [
    "### breve lapsus \n",
    "A este punto pensaras que yo no he leido por completo los libros de mis tops y parcialmente estas en lo correcto. Lo que sigue son dos libros que me los he leido por completo y hare un analisis a fondo. Aca si detallare lo mas importante de los libros y de los capitulos. "
   ]
  },
  {
   "cell_type": "markdown",
   "metadata": {},
   "source": [
    "# #2 MECÁNICA CLÁSICA \n",
    "# ( PEP Español  ,  Mar Serrano, Ignacio Zuñiga ) "
   ]
  },
  {
   "cell_type": "markdown",
   "metadata": {},
   "source": [
    "<img src=\"español_libro.png\">\n",
    "<img src=\"mar_serrano.jpg\">\n",
    "<img src=\"ignacio.jpg\">\n",
    "\n",
    "- Me falta foto de jose Español Garrigós ( no lo encuentro ). "
   ]
  },
  {
   "cell_type": "markdown",
   "metadata": {},
   "source": [
    "- La UNED ( Universida de Educación a Distancia ). No estoy enterado del todo de esta universidad, solo lo que me cautivo es que esta universidad ofrece libros a sus estudiantes hechos por los profesores. La verdad ire al grano y dire que en general los libros de esta Universidad son muy didacticos. \n",
    "- En este top 2 evoco el libro \"Mecanica clasica\" escrito por 3 autores ( el de las fotos ). \n",
    "- La motivacion de este libro es presentar de manera clara y precisa algunos conceptos que los autores nunca pudieron entender en los libros de textos usuales. Este libro es unico por su desarrollo. \n",
    "- Este libro me ayudo a entender lo que significa esta misteriosa ecuación que se usa en dinamica de cuerpo rigido y sistemas de referencia no inerciales:\n",
    "<img src=\"misterio.png\">\n",
    "\n",
    "- La ecuación relaciona la tasas de variacion de un vector en distintos sistemas de referenica.\n",
    "- Claro esta que el libro no usa esa ecuación sino que hace un desarrollo propio y en cambio usa una ecuación equivalente en funcion de matrices de rotación: \n",
    "<img src=\"misterio2.png\">\n",
    "\n",
    "- Aclarando totalmente cual es el significado de la primera ecuación . Esto no lo vi en ningun otro libro, la mayoria de autores que lei daban argumentos fisicos a esta ecuación pero lo que significaba matematicamente quedaba en lo oscuro. Este libro logra explicarte exitosamente el significado\n",
    "\n",
    "- el enfoque del libro es a base de matrices de rotación. Por cierto este libro define la velocidad angular de una manera elegante. La velocidad angular no es tan facil de definir, en la mayoria de casos puede confundirte . Este libro te advierte de todo eso y logra dar una explicacion clara. \n",
    "- Cito a los autores\n",
    "    - \"Puede que algunas nociones intuitivas como por ejemplo que la velocidad angular es un vector dirigido a lo largo del eje instantaneo de rotación , no son del todo correctas\" \n",
    "    \n",
    "- Por otro lado este libro presenta problemas discutidos y resueltos que tienen una riqueza fisica inigualable. (Lee el libro y me daras la razon)\n",
    "- El enfoque de este libro es deductivo ( Va de lo general a lo particular ).\n",
    "\n",
    "- Sin mas preambulos comento todos los capitulos de este maravilloso libro. "
   ]
  },
  {
   "cell_type": "markdown",
   "metadata": {},
   "source": [
    "<img src=\"meca1.png\">"
   ]
  },
  {
   "cell_type": "markdown",
   "metadata": {},
   "source": [
    "- Capitulo 1\n",
    "    - Como siempre , la mecanica clasica estudia los cuerpos macroscopicos , se hace una hipotesis de que los cuerptos estan constituidos de particulas puntuales. Este primer capitulo hace estudio de la cinematica y de los sitemas de referencia. Aca introduce el concepto de matriz de rotación que se usara en todo el libro y a base de esa matriz construye toda la teoria de transformaciones de coordenadas de un sistema de referencia a otro sistema de referencia en movimiento relativo. De este desarrollo aparece el termino de la velocidad angular el cual le da una interpretación. Demuestra que la velocidad angla no esta en el eje de rotación en general para todo movimiento. En esta primera lecura ya se esta habland de aceleración acimutal, aceleración de corilis , aceleración centifuga , aceleración de arrastre. Es una lectura recomendadisima al interesado en ver un enfoque distinto de la cinematica al que es habitual. "
   ]
  },
  {
   "cell_type": "markdown",
   "metadata": {},
   "source": [
    "<img src=\"meca2.png\">"
   ]
  },
  {
   "cell_type": "markdown",
   "metadata": {},
   "source": [
    "- Capitulo 2\n",
    "    - El autor hace el desarrollo de Newton , comenta el concepto de \"estrellas fjas\" y el problema con este. Clasifica las fuerzas ( las que depnden de la posicion , las del tiempo , las de velocidad ). Aca debo recomendar leer como resuelve el problema de la particula en un campo magnetico. Es revelador como describe por completo el movimiento con pocas lineas de ecuaciónes. Entra aca a lo complejo hablando de fuerzas ficticias debido a los movimientos relativos ( coriollis) y explica de manera muy clara como se forman los ciclone y anticiclones . Este desarrollo es solo comparado a como lo hace \"Greiner \" en su libro de mecanica clasica. La lectura lo hace sencilla, no se traba en ningun moemnto y despeja todas la dudas. Advierto que aca hace uso extensivo de matematica conocida pero en ningun moemnto se ve engorrosa. "
   ]
  },
  {
   "cell_type": "markdown",
   "metadata": {},
   "source": [
    "<img src=\"meca3.png\">"
   ]
  },
  {
   "cell_type": "markdown",
   "metadata": {},
   "source": [
    "- Capitulo 3\n",
    "    - Para iniciar el estudio de los cuerpos rigidos hay que atender a ciertos conceptos geometricos. El centro de masa, tensor o matriz de inercia , momentos de inercia. Todos estos conceptos lo desarrolla el autor solo usando pura notacion matricial. No es tan unico este capitulo pero si lo hace bien eso es todo."
   ]
  },
  {
   "cell_type": "markdown",
   "metadata": {},
   "source": [
    "<img src=\"meca4.png\">"
   ]
  },
  {
   "cell_type": "markdown",
   "metadata": {},
   "source": [
    "- Capitulo 4\n",
    "    - En este capitulo con su desarrollo puramente matricial desarrrolla todos los teoremas , de conservacion ( momento lineal , momento angular , energia mecanica ). Para seguir el capitulo siguiente este capitulo debe ser bien entendido . Si leeras el capitulo 5 necesariamente este capitulo debes interiorizar su notación."
   ]
  },
  {
   "cell_type": "markdown",
   "metadata": {},
   "source": [
    "<img src=\"meca5.png\">"
   ]
  },
  {
   "cell_type": "markdown",
   "metadata": {},
   "source": [
    "- Capitulo 5\n",
    "    - El mejor desarrollo de como describir un trompo que he visto en toda mi vida. El autor de manera elegante con su desarrollo matricial te explica los angulos de euler , su derivación , su uso y hasta hace problemas con una metodologia muy pero muy reveladora. El tromo o la peonza lo describe y analiza todos sus posibles movimientos. Si tu quieres entender la peonza este capitulo es el indicado. Este capitulo sirve como aplicacion de todo el desarrollo de capitulos anteriores . Se usa cinematica , conceptos geometricos , teoremas de conservacion . Recommiendo al 100 este libro solo por el desarrroolo de la peonza . "
   ]
  },
  {
   "cell_type": "markdown",
   "metadata": {},
   "source": [
    "<img src=\"meca6.png\">"
   ]
  },
  {
   "cell_type": "markdown",
   "metadata": {},
   "source": [
    "- Capitulo 6\n",
    "    - El autor no se queda atras y hace el desarrrollo de la gravitación hablando de campos de fuerza conservativos y campos de fuerza . El movimiento de una particula en un campo central . La clasificacion de orbitas y todo eso . Lo hace bien . Aca no hay nada que alabar mas que sigue prefiriendo usar donde pueda una notacion extensa y clara. \n",
    "    - Por cierto en este libro he visto nuevas e interesantes formas de derivar una funcion vectorial. Aca va un ejemplo \n",
    "    <img src=\"ejemplo_meca.png\">\n",
    "    \n",
    "    - Como puedes notar el autor trata el navla como una derivada respecto a un vector , algo muy a menudo en temas mas avanzados pero para alguien quien no esta acostumbrado esta perfecto. Siempre el autor intenta que tu veas las notaciones comodas. "
   ]
  },
  {
   "cell_type": "markdown",
   "metadata": {},
   "source": [
    "<img src=\"meca7.png\">"
   ]
  },
  {
   "cell_type": "markdown",
   "metadata": {},
   "source": [
    "- Capitulo 7\n",
    "    - Una joya de este libro es este capitulo. Todo su desarrollo matricial lo junta con operadores nablas . Y hace la demostracion de una fuerza no inercial ( que involucra fuerza de coriolis , etc ) partiendo de la dinamica de lagrange.Hace comentarios de las ligaduras de manera breve y clara , luego ejemplo. Y la mejor demostracion que he visto aca de este libro es \"Las ecuaciones de Euler - Lagrange son invariantes bajo cambio d ecoordenadas\". Por lo demas , el Teorema de Noether si se queda corto por sus aplicaciónes aunque si se entiende. No hace mucho hincapie pero si lo hace bien"
   ]
  },
  {
   "cell_type": "markdown",
   "metadata": {},
   "source": [
    "- En resumen este libro es una joya de la mecanica clasica para un estudiante nuevo. Para uno avanzado tal vez le parezca aburrido pero estos tipos de desarrollos de por estos autores abren los ojos a los Fisicos. Yo recomendare este libro siempre . Recomendacion en 2 lugar!!!"
   ]
  },
  {
   "cell_type": "markdown",
   "metadata": {},
   "source": [
    "Si tu haz leido este libro , cuentame en comentarios . ¿Que tal te parecio? ¿Te gusto mucho? ¿Consideras que el autor hizo un buen desarrollo? . Cuentame que yo te leo."
   ]
  },
  {
   "cell_type": "markdown",
   "metadata": {},
   "source": [
    "#### breve lapsus\n",
    "- El libro nuemro 1 de mi top. Es el mejor por una razon , este libro es elegante por donde lo veas. Habla de temas muy avanzados (conocimiento limite de la fisica ) La que esta en investigación \"claro hablando a la fecha de su publicacion\". Ahora supongo que esas cuestiones ya han sido resueltas pero este libro se mantiene siempre en pie como el preferido por muchos. Me lo lei todo aunque sin resolver sus problemas devido a que es muy extenso el libro y los problemas aun mas. Lastimosamente no sabia de la existencia de la ultima edicion ( yo me lei la 2da edición ) . Este libro me introdujo de manera exitosa a los temas avanzados de mecanica clasica. Yo he recomendado libros para una mecanica clasica sencilla entre comillas. Cuando haces temas mas avanzados e intentas unificar teorias que estan lejanos a los movimientos de cuerpos , aparece concepto ultra mega dificiles de entender. Este libro me ayudo adentrarme a las ideas modernas de la Mecanica clasica donde ya no se describe la dinamica solo a cuerpos sino tambien entra a campos como es la optica , biologia ,etc. Una mecanica clasica con ideas modernas que intenta abarcar mas temas de lo que en principio este no tenia de objeto de estudio.  \n"
   ]
  },
  {
   "cell_type": "markdown",
   "metadata": {},
   "source": [
    "# #1 MECÁNICA CLASICA \n",
    "# ( H.Goldstein ) "
   ]
  },
  {
   "cell_type": "markdown",
   "metadata": {},
   "source": [
    "<img src=\"libro_gold.jpg\">\n",
    "<img src=\"goldstein.jpg\">"
   ]
  },
  {
   "cell_type": "markdown",
   "metadata": {},
   "source": [
    "- El primero de mi top es \"Mecanica clasica\" de Herbert Goldstein el cual es el mejor libro ever que he leido. \n",
    "- El autor es tan generoso que escribio el libro completo en si mismo es decir , no necesitas acudir a otros libros . Lo podrias hacer pero el libro no te lo exige. El autor desarrolla las herramientas matematicas complejas necesarias asi que la base matematica que necesitas para leer este libro es caluclo infinitesimal y Analisis vectorial ( Depende la universidad esto ya lo debes tener en 3 o 2 año ). Es necesario saber un poco de las ecuaciones de Maxwell ya que el autor hace mucha referencias a ellas a lo largo del libro ( Un libro de Mecanica clasica hablando de electromagnetismo ? ) . Aunque no lo creas lo hace , en las formulaciones de lagrange , hamilton y en relatividad especial y lo hace muy a menudo. \n",
    "- Este cita las referencias de la misma ayuda como lo hace el Marion, pero los comentarios que hace respecto de sus citas son mas extensos . \n",
    "- Aca te dejo un ejemplo del primer capitulo.\n",
    "<img src=\"ref_gold1.png\">\n",
    "<img src=\"ref_gold2.png\">\n",
    "\n",
    "- Las referencias estan muy bien documentadas y la mayoria son de libros muy desconocidos o muy antiguos en mi opinion. Sin embargo si te vas a resolver los problemas del Libro vas a tener que leerte las referencias. Estas referencias tomalas como el autor lo indica \"una guia para la laberintica bibliografia de la Mecanica\".\n",
    "\n",
    "- Este libro me lo he leido por completo y consiero mejor contarte de inmediato que informacion tiene. Entonces procedo a mostrar el sillabus comentando su contenido y que tan bien los tiene explicado. \n",
    "- Tengo que comentar que yo en mi tiempo no sabia de la existencia de la 3era edicion de este libro. Yo te comentare de la segunda edición ( creo que tambien fue debido a que 3era edicion esta en ingles y la 2da en español ). Espero que igual te animes a leer este libro sea cual sea la edicion . "
   ]
  },
  {
   "cell_type": "markdown",
   "metadata": {},
   "source": [
    "<img src=\"gold1.png\">"
   ]
  },
  {
   "cell_type": "markdown",
   "metadata": {},
   "source": [
    "- Capitulo 1\n",
    "    - Como su nombre lo indica es un repaso, el cual es muy breve. Yo le digo , este capitulo resume tus primeras 4 semanas de Fisica 1 y agrega mas contenido complejo. Desde el comienzo ya te habla de las ecuaciones de Lagrange. Este fue el primer libro donde entendi que las ligaduras reciben una clasificación segun si estas tengan el tiempo ( reonomas ) o no ( escleronomas ) como una variable explicita. O pueden clasificarse como holonomas o no Holonomas. El libro detalla mucho esa parte . Desde el principio de Alambert deduce las ecuaciones de Lagrange ( En este capitulo hace mencion de las ecuaciones de maxwell, pero es entendible a pesar de que no hallas visto electro). En este capitulo lo valoro por que hace un desarrollo acerca de desarrollos lagrangianos cuando la energia no se conserva en un fenomeno. Introduce fuerzas que no derivan de un potencial y como ejemplo comenta la funcion de disipacion de Rayleight. \n",
    "    - Al final del capitulo resuelve 3 ejemplo\n",
    "        - Particula unica en el espacio\n",
    "        - Maquina de Atwood \n",
    "        - Cuenta que desliza por un alambre en rotación \n",
    "    - Todo usando los conceptos aprendidos."
   ]
  },
  {
   "cell_type": "markdown",
   "metadata": {},
   "source": [
    "<img src=\"gold2.png\">"
   ]
  },
  {
   "cell_type": "markdown",
   "metadata": {},
   "source": [
    "- capitulo 2\n",
    "    - En el capitulo 1 derivo las ecuaciones de lagrange segun la formulacion de Alambert.Aca lo hace desde el principio variacional . Esta parte no es tan unica , podria decirse que si ya eres conocedor del tema puedes dar una lectura rapida hasta la seccion 2-4. Donde Extiende el principio de hamilton ( el de la integral es un valor estacionario y todo eso ) a sistemas no holonomos. Aca hace la equivalencia entre el principio de Alambert y Hamilton ( recomendado esta seccion ) . Al final del capitulo menciona teoremas referente a simetrias y conservacion es decir ya hace mencion de nuestra amiga Noether.  Introduce los conceptos de funcion de energia. Se usan palabras como integrales primeras de movimiento o Integral de jacobi como constantes de movimientos. Bueno son terminologia que el autor aclara y da las razones."
   ]
  },
  {
   "cell_type": "markdown",
   "metadata": {},
   "source": [
    "<img src=\"gold3.png\">"
   ]
  },
  {
   "cell_type": "markdown",
   "metadata": {},
   "source": [
    "- capitulo 3\n",
    "    - Esta capitulo es muy revelador en mi opinion. El desarrollo comun de todos los libros que tratan el problema de los 2 cuerpso lo hace en 3 secciones. A partir de la seccion 4 es donde comienza hablasr del teorma virial ( estadistica ) . Halla el movimiento general para cualquier potencial de la forma $V=a*r^{n+1}$. y habla para que valores de n se tiene soluciones simples o integrales elipticas. Menciona el imporatante Teorema de Bertrand el cual explica de por que la fuerza gravitatoria tiene la forma que tiene ( un video puedo hacer respecto a esto si desean ). Introduce el vector de Laplace-Runge-Lenz en ayuda a conseguir las constantes de movimiento faltantes en el problema de kepler. La secciones finales son sobre dispersion , un tema que se analiza usualmente en Fisica moderna cuando Bhorn hace el experimento de irradiar particulas alfa a una lamina de oro. Estas ultimas secciones es el estudio de particulas que experimentan fuerza de repulsiones. ESte es el trato desde el punto de vista clasico. Mas adelante en capitulos posteriores lo hace desde el punto de vista de la relatividad. "
   ]
  },
  {
   "cell_type": "markdown",
   "metadata": {},
   "source": [
    "<img src=\"gold4.png\">"
   ]
  },
  {
   "cell_type": "markdown",
   "metadata": {},
   "source": [
    "- capitulo 4\n",
    "    - Comienza el capitulo introduciendo los conceptos matemativos necesarios ( cambio de base , transformaciones ortonales , notacion de Einstein , etc ) . Introduce la matriz de euler de rotacion para luego expresarla con los parametros d eCayley-Klein ( parametros que sirve para facilitar problemas giroscopicos complicados ). Estos parametros conllevan a hablar en grupos pero el autor no se sale mucho del tema. El autor sugiere cosas complicadas pero por el bien del lector no las desarrolla. Luego demuestra el teorema de euler ( teorema que aclara muchas cosas acerca del movimiento de un cuerpo rigido ). Debo aplaudir la parte de rotaciones finitas e infinitesimales. El autor deja claro estos dos tipos de rotaciones ( recomendado estas secciones ) . Aca es donde introduce la formula tan extraña mencionada en el top 2 . Pero bueno es entendible sin embargo se queda corto en rigurosidades matematicas. "
   ]
  },
  {
   "cell_type": "markdown",
   "metadata": {},
   "source": [
    "<img src=\"gold5.png\">"
   ]
  },
  {
   "cell_type": "markdown",
   "metadata": {},
   "source": [
    "- capitulo 5\n",
    "    - Este desarrollo es muy comun del cuerpo rigido ( tensor de inrercia , momento de inercia ,ecuacions d eeuler de movimento etc) , excepto por algunas secciones. La matematica en tensores y afinores. lA CONSTRUCCION DE POINSOT ,PRECESION equinocios, Teorema de Larmor y orbitas de satelites es lo que se distingeu este capitulo de otros libros. Recomiendo su lectura , es dificil advierto pero merece la pena. "
   ]
  },
  {
   "cell_type": "markdown",
   "metadata": {},
   "source": [
    "<img src=\"gold6.png\">"
   ]
  },
  {
   "cell_type": "markdown",
   "metadata": {},
   "source": [
    "- capitulo 6\n",
    "    - Este capitulo es consciso, Este capitulo puede decirse como la mejor aplicacion de la formulacion de lagrange . El problema formulado lo resuelve reduciendo el problema a encontrar valores propios de una matriz . Demuestra algunos teoremas realtivos . Al final del capitulo analiza la molecula triatomica lineal suponiendo que este iene tres grados de libertaed . Pero habla de como este problema se puede extender caudno la molecula tiene mas grados de libertad. Es muy recomendado la lectura. Finalmente analiza vibraciones forzada , puedo decir que este tema es mas complejo. Aca introduce de nuevo la funcion de disipacion y desarrolla un ejemplo. "
   ]
  },
  {
   "cell_type": "markdown",
   "metadata": {},
   "source": [
    "<img src=\"gold7.png\">"
   ]
  },
  {
   "cell_type": "markdown",
   "metadata": {},
   "source": [
    "- capitulo 7\n",
    "    - Hablar de este cpaitulo resulta demasiado extenso. El autor trata este tema con una elegancia inigualable.No se hace bolas mucho y te explica lo minimo para hacer relatividad especial. Luego demuestra las transformaciones de lorentz en base a la invariancia de la ecuacion de onda $x^2 + y^2 + z^2  = c^2* t^2 $ . Introduce el conceto de espacio de Minkowski y  da detalles de su geometria ( muy entendible ). Ademas clasifica esas transformaciones ( propias , impropias ,etc). Tambien clasifica como ortocronas y no rotoncronas. Ademas intenta hace un acercamiento a cambio de sistemas de referencia con transformaciones de lorentz ( aproximacion ojo , el resultado te sorprendera). En la seccion 7.3 y 7.4 da dos formalismos al estudiio de las transformaciones de lorentz ( esta parte es matematica pura ). En este capitulo ya se habla de covariante ( no evoques estadistica ni ha \"transformacion covariante\") sino algo ya que tiene contexto fisico en relatividad. Introduce los cuadrivectores y a partir de aqui sera lo que mas se hable. Intenta hacer una formulacion lagrangiana a esta relatividad especial ( introduce fuerza de minkowski y etc). Este capitulo tiene una lectura de que si se exige que los sitemas de particulas se comporten normal ( que se cumpla teoremas de conservacion en sistemas ) se necesita que la formulaciones lagrangianas referentes que expliquen estos sistemas no tenga conceptos como interacion directa convariante entre particulas . NO estoy seguro si esta limitacion esta superada pero el autor hace hincapie a que esta en investigacion este campo de formulacion lagrangianas covariantes. "
   ]
  },
  {
   "cell_type": "markdown",
   "metadata": {},
   "source": [
    "<img src=\"gold8.png\">"
   ]
  },
  {
   "cell_type": "markdown",
   "metadata": {},
   "source": [
    "- capitulo 8\n",
    "    - Sabemos que la formulacion de hamilton no es superiro a las tecnicas de Lagrange en la solucion de problemas de mecanica. Asi que el autor consciente de eso y su objetivo principal en este capitulo es dar aspecto teoricos. Habla de las transformaciones de legendre , introduce el concepto de variables canonicas. Fomula el hamiltoniado desde un punto de vista matricial ( en notacion simplectica) , util para tener un mejor entendimiento de la forma de las ecuaciones. Este capitulo tambien tiene el metodo de Routh que es como una combinacion entre las dos formulacciones . Formula la macanica relativista y comenta de los problemas involucrados en la formulación. El principio de hamilton se usa para deducir las ecuaciones de lagrange. Asi que aca formula principio similar a este para llegar a las ecuaciones de hamilton."
   ]
  },
  {
   "cell_type": "markdown",
   "metadata": {},
   "source": [
    "<img src=\"gold9.png\">"
   ]
  },
  {
   "cell_type": "markdown",
   "metadata": {},
   "source": [
    "- capitulo 9\n",
    "    - Este capitulo de transformaciones canonicas es el mas completo que he visto. Los trata de una forma simple y luego generaliza con notacion matricial ( o mejor dicho notacion simplectica ) .  El tema de corchetes de poisson lo aborada tambien de manera matircial. Quiero decir que este capitulo es muy extenso. Hay tantas cosas que el autor comenta que me qudo corto. Pero si estas interesado en este tema recomiendo perfectamente este capitulo. No hace muchos ejemplos, todos es pura teoria de la buena por cierto. Muy revelador el capitulo. "
   ]
  },
  {
   "cell_type": "markdown",
   "metadata": {},
   "source": [
    "<img src=\"gold10.png\">"
   ]
  },
  {
   "cell_type": "markdown",
   "metadata": {},
   "source": [
    "- capitulo 10\n",
    "    - Como sabran la formulacion de hamilton te permite resolver el problema mecanico . Esta forma de resolver problemas es mas tiene implicancias conceptuales muy profundads. El autor solo en la seccion 2 resuelve para el osicildor armonico. en la seccion 3 desarrolla la teoria para la funcion caracteristica , funcion que genera la transformacion cononica en la cual todas lasd coordenas son ciclicas.  El metodo de Hamilton - jacobi no añade mas en practicidad sin embargo en la mayoria de casos hay particularidades como se explica en la seccion 4 donde se puede aplicar separacion de variable par la ecuacion de Hmilton-Jacobi para reducir el problema a cuadraturas ( ecuaciones mas sencillas ). . La variable accion angulo las introucce . Sus ejemplos de este capitulo involucra mas a mecanica celeste. El autor los considera mas adecuado aplicarlos a ese campo. La seccion que recomiendo leer es la ultima ( 8 ) . \n",
    "    - cito algo del autor que me emociono mucho: \n",
    "        - \"Se ha dicho que si hamilton hubiera avanzado un poco más , habria descubierto la ecuación de Schrodinguer\"\n",
    "    - El autor dice por que esto es erronea pensar. El contexto este capitulo . El mas interesante de todo el libro en mi opinion. ME permitio entender que la Mecánica clásica conteine en su seno los gemenes de la teoria cuantica y que la formulacion de Hamilton- Jacobi es la que nos permite generalizar la Mecanica clasica a la ondulatoria."
   ]
  },
  {
   "cell_type": "markdown",
   "metadata": {},
   "source": [
    "<img src=\"gold11.png\">"
   ]
  },
  {
   "cell_type": "markdown",
   "metadata": {},
   "source": [
    "- capitulo 11\n",
    "    - Como sabran en problemas de mecanica clasica hay pocos problemas que tienen soluciones exactas. Asiq ue entra esta teoria para acercarnos a la soulucion de problemas. Este capitulo tiene mucho desrrollo matematico y se puede decir que es la aplicación de las ideas hamiltonianas. ESte capitulo es denso . Me limitare a decir que se habla mucho de lo que normalmente se habla en Mecanica cuantica pero desde un punto de vista clasico. Es mas dificil desarrrollar esta teoria que en cuantica en mi opinión. Y tambien mas dificil de entenderla. "
   ]
  },
  {
   "cell_type": "markdown",
   "metadata": {},
   "source": [
    "<img src=\"gold12.png\">"
   ]
  },
  {
   "cell_type": "markdown",
   "metadata": {},
   "source": [
    "- capitulo 12\n",
    "    - Para hacer sistemas continuos desde el putno de vista de las formulaciones vistas. Se requiere un analisis apropiado Este capitulo es una introduccion a estos temas desde un putno de vista sencillo.El autor lo que hace aca es aproximar la teoria partiendo de un sistema discreto. Halla las ecuaciones de lagrange involucradas a estos sistemas continuos. Este capitulo tiene el importante teorema de noether y se da una demostracion general , la mas general que he visto. En este capitulo habla de teoria de campos, lo hace de una manera entendible"
   ]
  },
  {
   "cell_type": "markdown",
   "metadata": {},
   "source": [
    "<img src=\"gold_apend.png\">"
   ]
  },
  {
   "cell_type": "markdown",
   "metadata": {},
   "source": [
    "- Tengo que decir que este libro es el mejor debido a su didactica y fue el primero que me adentro a que la mecanica clasica desde un putno de vista de una teoria aun en investigacion. Recomendacion en primer lugar !!!. \n",
    "\n",
    "- Si tu haz leido este libro , cuentame en comentarios . ¿Que tal te parecio? ¿Te gusto mucho? ¿Consideras que el autor hizo un buen desarrollo? . Cuentame que yo te leo."
   ]
  },
  {
   "cell_type": "markdown",
   "metadata": {},
   "source": [
    "- Este video es un top de Mecanica clasica OJO. Algunos Fisicos me diran que estos libros no pasa nada y hay mejores. Pero debo decir dos cosas 1. cuando la mecanica se trata desde un punto de vista mas unificador con otras teorias ya entra conceptos mas avanzados y yo en mi opinion le digo propiamente a ese enfoque perteneciente a un libro de  Mecanica Teorica . Asi que debo decir que Mecanica Clasica != Mecanica Teorica en la forma como tratan los temas. 2. Estos libros van dirigidos a los que estan comenzando con este campo de estudio. Tal vez en un futuro cuando sea investigador recomiende libros de Mecanica Teorica. Espero haberte ayudado y gracias . "
   ]
  },
  {
   "cell_type": "markdown",
   "metadata": {},
   "source": [
    "# Analisis \n",
    "- por que te gusta , por que esta en este puesto \n",
    "- Quienes te han recomendado , como lo encontraste , quienes son los autores ( sus historias , sus vidad ) . Leete el prefacio y verifica todo ( que no se te pase nada ) .\n",
    "- El video tiene que durar unos 15 minutos. \n",
    "- Partes importantes que le hace el libro que te gustaron. Puede ser cualquier cosa. \n",
    "- Evidenciar el prefacio es todo , la investigación tiene que ser completa. \n",
    "- Mostrar el silabus y los capitulos importantes . "
   ]
  }
 ],
 "metadata": {
  "kernelspec": {
   "display_name": "Python 3",
   "language": "python",
   "name": "python3"
  },
  "language_info": {
   "codemirror_mode": {
    "name": "ipython",
    "version": 3
   },
   "file_extension": ".py",
   "mimetype": "text/x-python",
   "name": "python",
   "nbconvert_exporter": "python",
   "pygments_lexer": "ipython3",
   "version": "3.7.6"
  }
 },
 "nbformat": 4,
 "nbformat_minor": 4
}
